{
 "cells": [
  {
   "cell_type": "code",
   "execution_count": 38,
   "metadata": {},
   "outputs": [],
   "source": [
    "from pathlib import Path\n",
    "import pandas as pd"
   ]
  },
  {
   "cell_type": "code",
   "execution_count": 39,
   "metadata": {},
   "outputs": [],
   "source": [
    "# Define base directory\n",
    "base_dir = Path('/Users/tabassum221b/Downloads/NetflixProject').resolve()\n",
    "\n",
    "# Define specific folders\n",
    "data_dir = base_dir / 'netflix-report'\n",
    "notebook_dir = base_dir / 'notebook'"
   ]
  },
  {
   "cell_type": "markdown",
   "metadata": {},
   "source": [
    "Viewing Activity Dataset Cleaning"
   ]
  },
  {
   "cell_type": "code",
   "execution_count": 40,
   "metadata": {},
   "outputs": [],
   "source": [
    "viewing_activity = pd.read_csv(data_dir/'CONTENT_INTERACTION'/'ViewingActivity.csv')"
   ]
  },
  {
   "cell_type": "code",
   "execution_count": 41,
   "metadata": {},
   "outputs": [
    {
     "data": {
      "text/plain": [
       "Index(['Profile Name', 'Start Time', 'Duration', 'Attributes', 'Title',\n",
       "       'Supplemental Video Type', 'Device Type', 'Bookmark', 'Latest Bookmark',\n",
       "       'Country'],\n",
       "      dtype='object')"
      ]
     },
     "execution_count": 41,
     "metadata": {},
     "output_type": "execute_result"
    }
   ],
   "source": [
    "viewing_activity.columns"
   ]
  },
  {
   "cell_type": "markdown",
   "metadata": {},
   "source": [
    "The profile 'Oishi' is shared by Oishi and Fairuj"
   ]
  },
  {
   "cell_type": "code",
   "execution_count": 42,
   "metadata": {},
   "outputs": [],
   "source": [
    "# Add a new column for User with the correct names\n",
    "def assign_user(row):\n",
    "    if row['Profile Name'] == 'Oishi' and row['Country'] == 'BD (Bangladesh)':\n",
    "        return 'Fairuj'\n",
    "    else:\n",
    "        return row['Profile Name']\n",
    "\n",
    "# Apply the function to create the new column\n",
    "viewing_activity['User'] = viewing_activity.apply(assign_user, axis=1)"
   ]
  },
  {
   "cell_type": "code",
   "execution_count": 43,
   "metadata": {},
   "outputs": [
    {
     "data": {
      "text/html": [
       "<div>\n",
       "<style scoped>\n",
       "    .dataframe tbody tr th:only-of-type {\n",
       "        vertical-align: middle;\n",
       "    }\n",
       "\n",
       "    .dataframe tbody tr th {\n",
       "        vertical-align: top;\n",
       "    }\n",
       "\n",
       "    .dataframe thead th {\n",
       "        text-align: right;\n",
       "    }\n",
       "</style>\n",
       "<table border=\"1\" class=\"dataframe\">\n",
       "  <thead>\n",
       "    <tr style=\"text-align: right;\">\n",
       "      <th></th>\n",
       "      <th>Profile Name</th>\n",
       "      <th>Start Time</th>\n",
       "      <th>Duration</th>\n",
       "      <th>Attributes</th>\n",
       "      <th>Title</th>\n",
       "      <th>Supplemental Video Type</th>\n",
       "      <th>Device Type</th>\n",
       "      <th>Bookmark</th>\n",
       "      <th>Latest Bookmark</th>\n",
       "      <th>Country</th>\n",
       "      <th>User</th>\n",
       "    </tr>\n",
       "  </thead>\n",
       "  <tbody>\n",
       "    <tr>\n",
       "      <th>1789</th>\n",
       "      <td>Oishi</td>\n",
       "      <td>2024-12-16 17:45:37</td>\n",
       "      <td>00:21:06</td>\n",
       "      <td>NaN</td>\n",
       "      <td>Dark: Season 3: Life and Death (Episode 5)</td>\n",
       "      <td>NaN</td>\n",
       "      <td>Chrome PC (Cadmium)</td>\n",
       "      <td>00:21:12</td>\n",
       "      <td>00:21:12</td>\n",
       "      <td>BD (Bangladesh)</td>\n",
       "      <td>Fairuj</td>\n",
       "    </tr>\n",
       "    <tr>\n",
       "      <th>1790</th>\n",
       "      <td>Oishi</td>\n",
       "      <td>2024-12-16 16:47:47</td>\n",
       "      <td>00:39:28</td>\n",
       "      <td>NaN</td>\n",
       "      <td>Dark: Season 3: The Origin (Episode 4)</td>\n",
       "      <td>NaN</td>\n",
       "      <td>Chrome PC (Cadmium)</td>\n",
       "      <td>00:59:45</td>\n",
       "      <td>00:59:45</td>\n",
       "      <td>BD (Bangladesh)</td>\n",
       "      <td>Fairuj</td>\n",
       "    </tr>\n",
       "  </tbody>\n",
       "</table>\n",
       "</div>"
      ],
      "text/plain": [
       "     Profile Name           Start Time  Duration Attributes  \\\n",
       "1789        Oishi  2024-12-16 17:45:37  00:21:06        NaN   \n",
       "1790        Oishi  2024-12-16 16:47:47  00:39:28        NaN   \n",
       "\n",
       "                                           Title Supplemental Video Type  \\\n",
       "1789  Dark: Season 3: Life and Death (Episode 5)                     NaN   \n",
       "1790      Dark: Season 3: The Origin (Episode 4)                     NaN   \n",
       "\n",
       "              Device Type  Bookmark Latest Bookmark          Country    User  \n",
       "1789  Chrome PC (Cadmium)  00:21:12        00:21:12  BD (Bangladesh)  Fairuj  \n",
       "1790  Chrome PC (Cadmium)  00:59:45        00:59:45  BD (Bangladesh)  Fairuj  "
      ]
     },
     "execution_count": 43,
     "metadata": {},
     "output_type": "execute_result"
    }
   ],
   "source": [
    "# Display the updated dataset with the new column\n",
    "viewing_activity[viewing_activity['User'] == 'Fairuj'].head(2)"
   ]
  },
  {
   "cell_type": "markdown",
   "metadata": {},
   "source": [
    "Modifying Duration Column"
   ]
  },
  {
   "cell_type": "code",
   "execution_count": 44,
   "metadata": {},
   "outputs": [
    {
     "data": {
      "text/plain": [
       "223    00:00:16\n",
       "Name: Duration, dtype: object"
      ]
     },
     "execution_count": 44,
     "metadata": {},
     "output_type": "execute_result"
    }
   ],
   "source": [
    "viewing_activity['Duration'].sample(1)"
   ]
  },
  {
   "cell_type": "code",
   "execution_count": 45,
   "metadata": {},
   "outputs": [],
   "source": [
    "# Convert 'Duration' to timedelta\n",
    "viewing_activity['Duration (timedelta)'] = pd.to_timedelta(viewing_activity['Duration'])\n",
    "\n",
    "# Create 'Duration (min)' and 'Duration (hr)' columns\n",
    "viewing_activity['Duration (min)'] = (viewing_activity['Duration (timedelta)'].dt.total_seconds() / 60).round(2)\n",
    "viewing_activity['Duration (hr)'] = (viewing_activity['Duration (timedelta)'].dt.total_seconds() / 3600).round(2)\n",
    "\n",
    "# Drop the intermediate 'Duration (timedelta)' column if\n",
    "viewing_activity = viewing_activity.drop(columns=['Duration (timedelta)'])\n"
   ]
  },
  {
   "cell_type": "markdown",
   "metadata": {},
   "source": [
    "Different profiles are being used in different countries"
   ]
  },
  {
   "cell_type": "code",
   "execution_count": 46,
   "metadata": {},
   "outputs": [
    {
     "data": {
      "text/plain": [
       "array(['IE (Ireland)', 'BD (Bangladesh)', 'US (United States)',\n",
       "       'GB (United Kingdom)'], dtype=object)"
      ]
     },
     "execution_count": 46,
     "metadata": {},
     "output_type": "execute_result"
    }
   ],
   "source": [
    "viewing_activity['Country'].unique()"
   ]
  },
  {
   "cell_type": "code",
   "execution_count": 47,
   "metadata": {},
   "outputs": [],
   "source": [
    "# Define a mapping of countries to their UTC offsets (in hours)\n",
    "country_to_utc_offset = {\n",
    "    'US (United States)': -5,  # UTC-5\n",
    "    'BD (Bangladesh)': 6,      # UTC+6\n",
    "    'IE (Ireland)': 0,         # UTC+0\n",
    "    'GB (United Kingdom)': 0   # UTC+0\n",
    "}\n",
    "\n",
    "# Function to manually adjust the time based on UTC offset\n",
    "def manual_adjust_to_local_time(row):\n",
    "    utc_time = row['Start Time']\n",
    "    country = row['Country']\n",
    "    \n",
    "    # Get the UTC offset for the country, default to 0 if not in the dictionary\n",
    "    utc_offset = country_to_utc_offset.get(country, 0)\n",
    "    \n",
    "    # Adjust the time by the UTC offset\n",
    "    return utc_time + pd.Timedelta(hours=utc_offset)"
   ]
  },
  {
   "cell_type": "code",
   "execution_count": 48,
   "metadata": {},
   "outputs": [],
   "source": [
    "# Apply the function to adjust 'Start Time'\n",
    "viewing_activity['Start Time UTC'] = viewing_activity['Start Time']\n",
    "viewing_activity['Start Time'] = pd.to_datetime(viewing_activity['Start Time'])  # Ensure 'Start Time' is datetime\n",
    "viewing_activity['Start Time'] = viewing_activity.apply(manual_adjust_to_local_time, axis=1)"
   ]
  },
  {
   "cell_type": "code",
   "execution_count": 49,
   "metadata": {},
   "outputs": [
    {
     "data": {
      "text/html": [
       "<div>\n",
       "<style scoped>\n",
       "    .dataframe tbody tr th:only-of-type {\n",
       "        vertical-align: middle;\n",
       "    }\n",
       "\n",
       "    .dataframe tbody tr th {\n",
       "        vertical-align: top;\n",
       "    }\n",
       "\n",
       "    .dataframe thead th {\n",
       "        text-align: right;\n",
       "    }\n",
       "</style>\n",
       "<table border=\"1\" class=\"dataframe\">\n",
       "  <thead>\n",
       "    <tr style=\"text-align: right;\">\n",
       "      <th></th>\n",
       "      <th>Profile Name</th>\n",
       "      <th>Start Time</th>\n",
       "      <th>Duration</th>\n",
       "      <th>Attributes</th>\n",
       "      <th>Title</th>\n",
       "      <th>Supplemental Video Type</th>\n",
       "      <th>Device Type</th>\n",
       "      <th>Bookmark</th>\n",
       "      <th>Latest Bookmark</th>\n",
       "      <th>Country</th>\n",
       "      <th>User</th>\n",
       "      <th>Duration (min)</th>\n",
       "      <th>Duration (hr)</th>\n",
       "      <th>Start Time UTC</th>\n",
       "    </tr>\n",
       "  </thead>\n",
       "  <tbody>\n",
       "    <tr>\n",
       "      <th>0</th>\n",
       "      <td>Choity</td>\n",
       "      <td>2024-12-19 04:51:24</td>\n",
       "      <td>00:17:04</td>\n",
       "      <td>NaN</td>\n",
       "      <td>Happiness: Limited Series: Episode 12</td>\n",
       "      <td>NaN</td>\n",
       "      <td>Apple iPhone 14 iPhone</td>\n",
       "      <td>01:11:18</td>\n",
       "      <td>01:11:18</td>\n",
       "      <td>IE (Ireland)</td>\n",
       "      <td>Choity</td>\n",
       "      <td>17.07</td>\n",
       "      <td>0.28</td>\n",
       "      <td>2024-12-19 04:51:24</td>\n",
       "    </tr>\n",
       "    <tr>\n",
       "      <th>1</th>\n",
       "      <td>Choity</td>\n",
       "      <td>2024-12-19 04:24:49</td>\n",
       "      <td>00:24:34</td>\n",
       "      <td>NaN</td>\n",
       "      <td>Happiness: Limited Series: Epsiode 11 (Episode...</td>\n",
       "      <td>NaN</td>\n",
       "      <td>Apple iPhone 14 iPhone</td>\n",
       "      <td>01:00:34</td>\n",
       "      <td>01:00:34</td>\n",
       "      <td>IE (Ireland)</td>\n",
       "      <td>Choity</td>\n",
       "      <td>24.57</td>\n",
       "      <td>0.41</td>\n",
       "      <td>2024-12-19 04:24:49</td>\n",
       "    </tr>\n",
       "  </tbody>\n",
       "</table>\n",
       "</div>"
      ],
      "text/plain": [
       "  Profile Name          Start Time  Duration Attributes  \\\n",
       "0       Choity 2024-12-19 04:51:24  00:17:04        NaN   \n",
       "1       Choity 2024-12-19 04:24:49  00:24:34        NaN   \n",
       "\n",
       "                                               Title Supplemental Video Type  \\\n",
       "0              Happiness: Limited Series: Episode 12                     NaN   \n",
       "1  Happiness: Limited Series: Epsiode 11 (Episode...                     NaN   \n",
       "\n",
       "              Device Type  Bookmark Latest Bookmark       Country    User  \\\n",
       "0  Apple iPhone 14 iPhone  01:11:18        01:11:18  IE (Ireland)  Choity   \n",
       "1  Apple iPhone 14 iPhone  01:00:34        01:00:34  IE (Ireland)  Choity   \n",
       "\n",
       "   Duration (min)  Duration (hr)       Start Time UTC  \n",
       "0           17.07           0.28  2024-12-19 04:51:24  \n",
       "1           24.57           0.41  2024-12-19 04:24:49  "
      ]
     },
     "execution_count": 49,
     "metadata": {},
     "output_type": "execute_result"
    }
   ],
   "source": [
    "# Display a sample of the adjusted values\n",
    "viewing_activity.head(2)"
   ]
  },
  {
   "cell_type": "markdown",
   "metadata": {},
   "source": [
    "New Columns"
   ]
  },
  {
   "cell_type": "code",
   "execution_count": 50,
   "metadata": {},
   "outputs": [],
   "source": [
    "# Create new columns from 'Start Time'\n",
    "viewing_activity['Year'] = viewing_activity['Start Time'].dt.year\n",
    "viewing_activity['Month'] = viewing_activity['Start Time'].dt.month\n",
    "viewing_activity['Date_of_month'] = viewing_activity['Start Time'].dt.day\n",
    "viewing_activity['day_of_week'] = viewing_activity['Start Time'].dt.dayofweek\n",
    "viewing_activity['day_name'] = viewing_activity['Start Time'].dt.day_name()"
   ]
  },
  {
   "cell_type": "code",
   "execution_count": 51,
   "metadata": {},
   "outputs": [],
   "source": [
    "# Split 'Title' into 'TV Show', 'Season', and 'Episode'\n",
    "viewing_activity[['TV Show', 'Season', 'Episode']] = viewing_activity['Title'].str.split(':', expand=True, n=2)\n",
    "\n",
    "# Determine Content Type (Movie or TV Show)\n",
    "viewing_activity['Content Type'] = viewing_activity['Season'].apply(lambda x: 'Movie' if pd.isna(x) else 'TV Show')"
   ]
  },
  {
   "cell_type": "code",
   "execution_count": 52,
   "metadata": {},
   "outputs": [
    {
     "data": {
      "text/html": [
       "<div>\n",
       "<style scoped>\n",
       "    .dataframe tbody tr th:only-of-type {\n",
       "        vertical-align: middle;\n",
       "    }\n",
       "\n",
       "    .dataframe tbody tr th {\n",
       "        vertical-align: top;\n",
       "    }\n",
       "\n",
       "    .dataframe thead th {\n",
       "        text-align: right;\n",
       "    }\n",
       "</style>\n",
       "<table border=\"1\" class=\"dataframe\">\n",
       "  <thead>\n",
       "    <tr style=\"text-align: right;\">\n",
       "      <th></th>\n",
       "      <th>Title</th>\n",
       "      <th>TV Show</th>\n",
       "      <th>Season</th>\n",
       "      <th>Episode</th>\n",
       "      <th>Content Type</th>\n",
       "    </tr>\n",
       "  </thead>\n",
       "  <tbody>\n",
       "    <tr>\n",
       "      <th>657</th>\n",
       "      <td>Where Stars Land: Season 1_hook_03_16x9</td>\n",
       "      <td>Where Stars Land</td>\n",
       "      <td>Season 1_hook_03_16x9</td>\n",
       "      <td>None</td>\n",
       "      <td>TV Show</td>\n",
       "    </tr>\n",
       "    <tr>\n",
       "      <th>1833</th>\n",
       "      <td>Gilmore Girls: Season 1 - CLM 2</td>\n",
       "      <td>Gilmore Girls</td>\n",
       "      <td>Season 1 - CLM 2</td>\n",
       "      <td>None</td>\n",
       "      <td>TV Show</td>\n",
       "    </tr>\n",
       "  </tbody>\n",
       "</table>\n",
       "</div>"
      ],
      "text/plain": [
       "                                        Title           TV Show  \\\n",
       "657   Where Stars Land: Season 1_hook_03_16x9  Where Stars Land   \n",
       "1833          Gilmore Girls: Season 1 - CLM 2     Gilmore Girls   \n",
       "\n",
       "                      Season Episode Content Type  \n",
       "657    Season 1_hook_03_16x9    None      TV Show  \n",
       "1833        Season 1 - CLM 2    None      TV Show  "
      ]
     },
     "execution_count": 52,
     "metadata": {},
     "output_type": "execute_result"
    }
   ],
   "source": [
    "#Check update\n",
    "viewing_activity[['Title', 'TV Show', 'Season', 'Episode', 'Content Type']].sample(2)"
   ]
  },
  {
   "cell_type": "code",
   "execution_count": 53,
   "metadata": {},
   "outputs": [
    {
     "data": {
      "text/plain": [
       "array([nan, 'HOOK', 'TRAILER', 'RECAP', 'TEASER_TRAILER', 'CINEMAGRAPH'],\n",
       "      dtype=object)"
      ]
     },
     "execution_count": 53,
     "metadata": {},
     "output_type": "execute_result"
    }
   ],
   "source": [
    "viewing_activity['Supplemental Video Type'].unique()"
   ]
  },
  {
   "cell_type": "code",
   "execution_count": 54,
   "metadata": {},
   "outputs": [],
   "source": [
    "# Keep only rows where 'Supplemental Video Type' is NaN\n",
    "viewing_activity = viewing_activity[viewing_activity['Supplemental Video Type'].isna()]"
   ]
  },
  {
   "cell_type": "code",
   "execution_count": 55,
   "metadata": {},
   "outputs": [],
   "source": [
    "# Drop the specified columns\n",
    "viewing_activity = viewing_activity.drop(columns=['Attributes', 'Supplemental Video Type', 'Bookmark', 'Latest Bookmark'])"
   ]
  },
  {
   "cell_type": "markdown",
   "metadata": {},
   "source": [
    "Modifying Start time column"
   ]
  },
  {
   "cell_type": "code",
   "execution_count": 56,
   "metadata": {},
   "outputs": [],
   "source": [
    "# Ensure 'Start Time' is in datetime format\n",
    "viewing_activity['Start Time'] = pd.to_datetime(viewing_activity['Start Time'], errors='coerce')\n",
    "\n",
    "# Create 'Date' column by extracting the date part\n",
    "viewing_activity['Date'] = viewing_activity['Start Time'].dt.date\n",
    "\n",
    "# Update 'Start Time' column by extracting the time part\n",
    "viewing_activity['Start Time'] = viewing_activity['Start Time'].dt.time"
   ]
  },
  {
   "cell_type": "code",
   "execution_count": 57,
   "metadata": {},
   "outputs": [
    {
     "data": {
      "text/html": [
       "<div>\n",
       "<style scoped>\n",
       "    .dataframe tbody tr th:only-of-type {\n",
       "        vertical-align: middle;\n",
       "    }\n",
       "\n",
       "    .dataframe tbody tr th {\n",
       "        vertical-align: top;\n",
       "    }\n",
       "\n",
       "    .dataframe thead th {\n",
       "        text-align: right;\n",
       "    }\n",
       "</style>\n",
       "<table border=\"1\" class=\"dataframe\">\n",
       "  <thead>\n",
       "    <tr style=\"text-align: right;\">\n",
       "      <th></th>\n",
       "      <th>Profile Name</th>\n",
       "      <th>Start Time</th>\n",
       "      <th>Duration</th>\n",
       "      <th>Title</th>\n",
       "      <th>Device Type</th>\n",
       "      <th>Country</th>\n",
       "      <th>User</th>\n",
       "      <th>Duration (min)</th>\n",
       "      <th>Duration (hr)</th>\n",
       "      <th>Start Time UTC</th>\n",
       "      <th>Year</th>\n",
       "      <th>Month</th>\n",
       "      <th>Date_of_month</th>\n",
       "      <th>day_of_week</th>\n",
       "      <th>day_name</th>\n",
       "      <th>TV Show</th>\n",
       "      <th>Season</th>\n",
       "      <th>Episode</th>\n",
       "      <th>Content Type</th>\n",
       "      <th>Date</th>\n",
       "    </tr>\n",
       "  </thead>\n",
       "  <tbody>\n",
       "    <tr>\n",
       "      <th>0</th>\n",
       "      <td>Choity</td>\n",
       "      <td>04:51:24</td>\n",
       "      <td>00:17:04</td>\n",
       "      <td>Happiness: Limited Series: Episode 12</td>\n",
       "      <td>Apple iPhone 14 iPhone</td>\n",
       "      <td>IE (Ireland)</td>\n",
       "      <td>Choity</td>\n",
       "      <td>17.07</td>\n",
       "      <td>0.28</td>\n",
       "      <td>2024-12-19 04:51:24</td>\n",
       "      <td>2024</td>\n",
       "      <td>12</td>\n",
       "      <td>19</td>\n",
       "      <td>3</td>\n",
       "      <td>Thursday</td>\n",
       "      <td>Happiness</td>\n",
       "      <td>Limited Series</td>\n",
       "      <td>Episode 12</td>\n",
       "      <td>TV Show</td>\n",
       "      <td>2024-12-19</td>\n",
       "    </tr>\n",
       "    <tr>\n",
       "      <th>1</th>\n",
       "      <td>Choity</td>\n",
       "      <td>04:24:49</td>\n",
       "      <td>00:24:34</td>\n",
       "      <td>Happiness: Limited Series: Epsiode 11 (Episode...</td>\n",
       "      <td>Apple iPhone 14 iPhone</td>\n",
       "      <td>IE (Ireland)</td>\n",
       "      <td>Choity</td>\n",
       "      <td>24.57</td>\n",
       "      <td>0.41</td>\n",
       "      <td>2024-12-19 04:24:49</td>\n",
       "      <td>2024</td>\n",
       "      <td>12</td>\n",
       "      <td>19</td>\n",
       "      <td>3</td>\n",
       "      <td>Thursday</td>\n",
       "      <td>Happiness</td>\n",
       "      <td>Limited Series</td>\n",
       "      <td>Epsiode 11 (Episode 11)</td>\n",
       "      <td>TV Show</td>\n",
       "      <td>2024-12-19</td>\n",
       "    </tr>\n",
       "    <tr>\n",
       "      <th>2</th>\n",
       "      <td>Choity</td>\n",
       "      <td>04:12:48</td>\n",
       "      <td>00:10:02</td>\n",
       "      <td>Happiness: Limited Series: Episode 10</td>\n",
       "      <td>Apple iPhone 14 iPhone</td>\n",
       "      <td>IE (Ireland)</td>\n",
       "      <td>Choity</td>\n",
       "      <td>10.03</td>\n",
       "      <td>0.17</td>\n",
       "      <td>2024-12-19 04:12:48</td>\n",
       "      <td>2024</td>\n",
       "      <td>12</td>\n",
       "      <td>19</td>\n",
       "      <td>3</td>\n",
       "      <td>Thursday</td>\n",
       "      <td>Happiness</td>\n",
       "      <td>Limited Series</td>\n",
       "      <td>Episode 10</td>\n",
       "      <td>TV Show</td>\n",
       "      <td>2024-12-19</td>\n",
       "    </tr>\n",
       "    <tr>\n",
       "      <th>3</th>\n",
       "      <td>Choity</td>\n",
       "      <td>03:54:23</td>\n",
       "      <td>00:16:11</td>\n",
       "      <td>Happiness: Limited Series: Episode 9</td>\n",
       "      <td>Apple iPhone 14 iPhone</td>\n",
       "      <td>IE (Ireland)</td>\n",
       "      <td>Choity</td>\n",
       "      <td>16.18</td>\n",
       "      <td>0.27</td>\n",
       "      <td>2024-12-19 03:54:23</td>\n",
       "      <td>2024</td>\n",
       "      <td>12</td>\n",
       "      <td>19</td>\n",
       "      <td>3</td>\n",
       "      <td>Thursday</td>\n",
       "      <td>Happiness</td>\n",
       "      <td>Limited Series</td>\n",
       "      <td>Episode 9</td>\n",
       "      <td>TV Show</td>\n",
       "      <td>2024-12-19</td>\n",
       "    </tr>\n",
       "    <tr>\n",
       "      <th>4</th>\n",
       "      <td>Choity</td>\n",
       "      <td>03:27:39</td>\n",
       "      <td>00:24:47</td>\n",
       "      <td>Happiness: Limited Series: Episode 8</td>\n",
       "      <td>Apple iPhone 14 iPhone</td>\n",
       "      <td>IE (Ireland)</td>\n",
       "      <td>Choity</td>\n",
       "      <td>24.78</td>\n",
       "      <td>0.41</td>\n",
       "      <td>2024-12-19 03:27:39</td>\n",
       "      <td>2024</td>\n",
       "      <td>12</td>\n",
       "      <td>19</td>\n",
       "      <td>3</td>\n",
       "      <td>Thursday</td>\n",
       "      <td>Happiness</td>\n",
       "      <td>Limited Series</td>\n",
       "      <td>Episode 8</td>\n",
       "      <td>TV Show</td>\n",
       "      <td>2024-12-19</td>\n",
       "    </tr>\n",
       "  </tbody>\n",
       "</table>\n",
       "</div>"
      ],
      "text/plain": [
       "  Profile Name Start Time  Duration  \\\n",
       "0       Choity   04:51:24  00:17:04   \n",
       "1       Choity   04:24:49  00:24:34   \n",
       "2       Choity   04:12:48  00:10:02   \n",
       "3       Choity   03:54:23  00:16:11   \n",
       "4       Choity   03:27:39  00:24:47   \n",
       "\n",
       "                                               Title             Device Type  \\\n",
       "0              Happiness: Limited Series: Episode 12  Apple iPhone 14 iPhone   \n",
       "1  Happiness: Limited Series: Epsiode 11 (Episode...  Apple iPhone 14 iPhone   \n",
       "2              Happiness: Limited Series: Episode 10  Apple iPhone 14 iPhone   \n",
       "3               Happiness: Limited Series: Episode 9  Apple iPhone 14 iPhone   \n",
       "4               Happiness: Limited Series: Episode 8  Apple iPhone 14 iPhone   \n",
       "\n",
       "        Country    User  Duration (min)  Duration (hr)       Start Time UTC  \\\n",
       "0  IE (Ireland)  Choity           17.07           0.28  2024-12-19 04:51:24   \n",
       "1  IE (Ireland)  Choity           24.57           0.41  2024-12-19 04:24:49   \n",
       "2  IE (Ireland)  Choity           10.03           0.17  2024-12-19 04:12:48   \n",
       "3  IE (Ireland)  Choity           16.18           0.27  2024-12-19 03:54:23   \n",
       "4  IE (Ireland)  Choity           24.78           0.41  2024-12-19 03:27:39   \n",
       "\n",
       "   Year  Month  Date_of_month  day_of_week  day_name    TV Show  \\\n",
       "0  2024     12             19            3  Thursday  Happiness   \n",
       "1  2024     12             19            3  Thursday  Happiness   \n",
       "2  2024     12             19            3  Thursday  Happiness   \n",
       "3  2024     12             19            3  Thursday  Happiness   \n",
       "4  2024     12             19            3  Thursday  Happiness   \n",
       "\n",
       "            Season                   Episode Content Type        Date  \n",
       "0   Limited Series                Episode 12      TV Show  2024-12-19  \n",
       "1   Limited Series   Epsiode 11 (Episode 11)      TV Show  2024-12-19  \n",
       "2   Limited Series                Episode 10      TV Show  2024-12-19  \n",
       "3   Limited Series                 Episode 9      TV Show  2024-12-19  \n",
       "4   Limited Series                 Episode 8      TV Show  2024-12-19  "
      ]
     },
     "execution_count": 57,
     "metadata": {},
     "output_type": "execute_result"
    }
   ],
   "source": [
    "#final look\n",
    "viewing_activity.head()"
   ]
  },
  {
   "cell_type": "code",
   "execution_count": 58,
   "metadata": {},
   "outputs": [
    {
     "name": "stdout",
     "output_type": "stream",
     "text": [
      "Updated dataset has been saved to: /Users/tabassum221b/Downloads/NetflixProject/netflix-report/CONTENT_INTERACTION/ViewingActivity_Updated.csv\n"
     ]
    }
   ],
   "source": [
    "# Define the output path for the updated dataset\n",
    "output_path = data_dir / 'CONTENT_INTERACTION' / 'ViewingActivity_Updated.csv'\n",
    "\n",
    "# Save the updated dataset\n",
    "viewing_activity.to_csv(output_path, index=False)\n",
    "\n",
    "print(f\"Updated dataset has been saved to: {output_path}\")"
   ]
  }
 ],
 "metadata": {
  "kernelspec": {
   "display_name": "venv",
   "language": "python",
   "name": "python3"
  },
  "language_info": {
   "codemirror_mode": {
    "name": "ipython",
    "version": 3
   },
   "file_extension": ".py",
   "mimetype": "text/x-python",
   "name": "python",
   "nbconvert_exporter": "python",
   "pygments_lexer": "ipython3",
   "version": "3.9.6"
  }
 },
 "nbformat": 4,
 "nbformat_minor": 2
}
